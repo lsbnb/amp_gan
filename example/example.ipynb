{
 "cells": [
  {
   "cell_type": "code",
   "execution_count": null,
   "metadata": {},
   "outputs": [],
   "source": [
    "import sys,os\n",
    "import urllib.request    \n",
    "sys.path.append('..')\n",
    "from amp_gan.train import main as train_gan\n",
    "from amp_gan.utils import write_fasta,create_folder"
   ]
  },
  {
   "cell_type": "code",
   "execution_count": null,
   "metadata": {},
   "outputs": [],
   "source": [
    "#Set and create the place where result saved\n",
    "outout_root = \"test\"\n",
    "fasta_path = os.path.join(outout_root,'example.fasta')\n",
    "create_folder(outout_root)\n",
    "\n",
    "#Download example fasta and save to outout_root\n",
    "with urllib.request.urlopen(\"https://symbiosis.iis.sinica.edu.tw/PC_6/data/example.txt\") as f:\n",
    "    html = f.read().decode('utf-8').split('\\n')\n",
    "names = [html[i] for i in range(0,len(html)-1,2)]\n",
    "seqs = [html[i] for i in range(1,len(html),2)]\n",
    "write_fasta(dict(zip(names,seqs)),fasta_path)\n",
    "\n",
    "#Train model with example fasta\n",
    "train_gan(fasta_path,outout_root,batch_size=8,step=10,epoch=100)"
   ]
  }
 ],
 "metadata": {
  "kernelspec": {
   "display_name": "Python 3",
   "language": "python",
   "name": "python3"
  },
  "language_info": {
   "codemirror_mode": {
    "name": "ipython",
    "version": 3
   },
   "file_extension": ".py",
   "mimetype": "text/x-python",
   "name": "python",
   "nbconvert_exporter": "python",
   "pygments_lexer": "ipython3",
   "version": "3.8.6"
  }
 },
 "nbformat": 4,
 "nbformat_minor": 4
}
